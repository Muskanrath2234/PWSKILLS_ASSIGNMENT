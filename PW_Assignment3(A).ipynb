{
 "cells": [
  {
   "cell_type": "markdown",
   "id": "cab13152",
   "metadata": {},
   "source": [
    "#### Q1. Which keyword is used to create a function? Create a function to return a list of odd numbers in the range\n",
    "####  of 1 to 25 def keyword to create a function."
   ]
  },
  {
   "cell_type": "code",
   "execution_count": 2,
   "id": "2ff0f5ef",
   "metadata": {},
   "outputs": [
    {
     "data": {
      "text/plain": [
       "[1, 3, 5, 7, 9, 11, 13, 15, 17, 19, 21, 23, 25]"
      ]
     },
     "execution_count": 2,
     "metadata": {},
     "output_type": "execute_result"
    }
   ],
   "source": [
    "# def keyword is used to create a function\n",
    "def get_odd_numbers():\n",
    "    odd_numbers = []\n",
    "    for num in range(1, 26):\n",
    "        if num % 2 != 0:\n",
    "            odd_numbers.append(num)\n",
    "    return odd_numbers\n",
    "\n",
    "# Call the function and store the result\n",
    "result = get_odd_numbers()\n",
    "result"
   ]
  },
  {
   "cell_type": "markdown",
   "id": "3595fa64",
   "metadata": {},
   "source": [
    "#### Q2. Why args and kwargs is used in some functions? Create a function each for args and **kwargs to demonstrate\n",
    "####  their use.\n",
    "*args is used to pass a variable number of non-keyworded arguments to a function. It allows you to pass \n",
    " multiple arguments to a function without explicitly specifying them.\n",
    "**kwargs , it allows us to pass the variable lenght of keyword arguments to thesunction."
   ]
  },
  {
   "cell_type": "code",
   "execution_count": 5,
   "id": "08416ffa",
   "metadata": {},
   "outputs": [
    {
     "name": "stdout",
     "output_type": "stream",
     "text": [
      "15\n"
     ]
    }
   ],
   "source": [
    "def sum_numbers(*args):\n",
    "    total = 0\n",
    "    for num in args:\n",
    "        total += num\n",
    "    return total\n",
    "\n",
    "result = sum_numbers(1, 2, 3, 4, 5)\n",
    "print(result)"
   ]
  },
  {
   "cell_type": "code",
   "execution_count": 6,
   "id": "8019a237",
   "metadata": {},
   "outputs": [
    {
     "name": "stdout",
     "output_type": "stream",
     "text": [
      "name: muskan\n",
      "age: 20\n",
      "city: khandwa\n"
     ]
    }
   ],
   "source": [
    "def greet(**kwargs):\n",
    "    for key, value in kwargs.items():\n",
    "        print(f\"{key}: {value}\")\n",
    "\n",
    "greet(name=\"muskan\", age=20, city=\"khandwa\")"
   ]
  },
  {
   "cell_type": "markdown",
   "id": "fdd65c1a",
   "metadata": {},
   "source": [
    "#### Q3. What is an iterator in python? Name the method used to initialise theiterator\n",
    "#### object and the method used for iteration. Use these methods to print the first\n",
    "#### five elements of the given list [2, 4, 6, 8, 10, 12, 14, 16, 18, 20].\n",
    " In Python, an iterator is an object that implements the iterator protocol, \n",
    "which consists of two methods: iter() and next()."
   ]
  },
  {
   "cell_type": "code",
   "execution_count": 9,
   "id": "d8b94064",
   "metadata": {},
   "outputs": [
    {
     "name": "stdout",
     "output_type": "stream",
     "text": [
      "m\n",
      "u\n",
      "s\n",
      "k\n",
      "a\n",
      "n\n",
      " \n",
      "r\n",
      "a\n",
      "t\n",
      "h\n",
      "o\n",
      "r\n",
      "e\n"
     ]
    }
   ],
   "source": [
    "my_name = \"muskan rathore\"\n",
    "\n",
    "\n",
    "my_iter = iter(my_name)\n",
    "\n",
    "for _ in my_name:\n",
    "    element = next(my_iter)\n",
    "    print(element)"
   ]
  },
  {
   "cell_type": "markdown",
   "id": "9e36a2f1",
   "metadata": {},
   "source": [
    "#### Q4. What is a generator function in python? Why yield keyword is used? Give an example of a generator function.\n",
    "\n",
    " A generator function is a special type of function that generates a sequence of values using the yield keyword.\n",
    "\n",
    " The yield keyword is used in a generator function to yield a value from the function, but without terminating its \n",
    "execution."
   ]
  },
  {
   "cell_type": "code",
   "execution_count": 11,
   "id": "9dde21ba",
   "metadata": {},
   "outputs": [
    {
     "name": "stdout",
     "output_type": "stream",
     "text": [
      "0\n",
      "2\n",
      "4\n",
      "6\n",
      "8\n"
     ]
    }
   ],
   "source": [
    "def generate_even_numbers():\n",
    "    num = 0\n",
    "    while True:\n",
    "        yield num\n",
    "        num += 2\n",
    "\n",
    "\n",
    "even_gen = generate_even_numbers()\n",
    "for _ in range(5):\n",
    "    print(next(even_gen))"
   ]
  },
  {
   "cell_type": "markdown",
   "id": "a8c0f50d",
   "metadata": {},
   "source": [
    "#### Q5. Create a generator function for prime numbers less than 1000. Use the next() method to print the first \n",
    "#### 20 prime numbers."
   ]
  },
  {
   "cell_type": "code",
   "execution_count": 13,
   "id": "c4e3452c",
   "metadata": {},
   "outputs": [
    {
     "name": "stdout",
     "output_type": "stream",
     "text": [
      "2\n",
      "3\n",
      "5\n",
      "7\n",
      "11\n",
      "13\n",
      "17\n",
      "19\n",
      "23\n",
      "29\n",
      "31\n",
      "37\n",
      "41\n",
      "43\n",
      "47\n",
      "53\n",
      "59\n",
      "61\n",
      "67\n",
      "71\n"
     ]
    }
   ],
   "source": [
    "def generate_primes():\n",
    "    num = 2\n",
    "    while True:\n",
    "        if is_prime(num):\n",
    "            yield num\n",
    "        num += 1\n",
    "\n",
    "def is_prime(n):\n",
    "    if n < 2:\n",
    "        return False\n",
    "    for i in range(2, int(n ** 0.5) + 1):\n",
    "        if n % i == 0:\n",
    "            return False\n",
    "    return True\n",
    "\n",
    "prime_gen = generate_primes()\n",
    "\n",
    "\n",
    "for _ in range(20):\n",
    "    print(next(prime_gen))"
   ]
  },
  {
   "cell_type": "markdown",
   "id": "ea776429",
   "metadata": {},
   "source": [
    "#### Q6. Write a python program to print the first 10 Fibonacci numbers using a while loop.\n"
   ]
  },
  {
   "cell_type": "code",
   "execution_count": 15,
   "id": "2dcf4ea2",
   "metadata": {},
   "outputs": [
    {
     "name": "stdout",
     "output_type": "stream",
     "text": [
      "0\n",
      "1\n",
      "1\n",
      "2\n",
      "3\n",
      "5\n",
      "8\n",
      "13\n",
      "21\n",
      "34\n"
     ]
    }
   ],
   "source": [
    "# Function to print the first 10 Fibonacci numbers\n",
    "def print_fibonacci():\n",
    "    num1, num2 = 0, 1\n",
    "    count = 0\n",
    "\n",
    "    while count < 10:\n",
    "        print(num1)\n",
    "        next_num = num1 + num2\n",
    "        num1 = num2\n",
    "        num2 = next_num\n",
    "        count += 1\n",
    "\n",
    "# Call the function\n",
    "print_fibonacci()"
   ]
  },
  {
   "cell_type": "markdown",
   "id": "e65dbeed",
   "metadata": {},
   "source": [
    "#### Q7. Write a List Comprehension to iterate through the given string: ‘pwskills’.\n",
    "#### Expected output: ['p', 'w', 's', 'k', 'i', 'l', 'l', 's']"
   ]
  },
  {
   "cell_type": "code",
   "execution_count": 17,
   "id": "c1957eb6",
   "metadata": {},
   "outputs": [
    {
     "name": "stdout",
     "output_type": "stream",
     "text": [
      "['p', 'w', 's', 'k', 'i', 'l', 'l', 's']\n"
     ]
    }
   ],
   "source": [
    "string = 'pwskills'\n",
    "result = [char for char in string]\n",
    "print(result)"
   ]
  },
  {
   "cell_type": "markdown",
   "id": "7a70e6a7",
   "metadata": {},
   "source": [
    "#### Q8. Write a python program to check whether a given number is Palindrome or not using a while loop."
   ]
  },
  {
   "cell_type": "code",
   "execution_count": 19,
   "id": "c687ea34",
   "metadata": {},
   "outputs": [
    {
     "name": "stdout",
     "output_type": "stream",
     "text": [
      "Enter a number: 564\n",
      "564 is not a palindrome.\n"
     ]
    }
   ],
   "source": [
    "def is_palindrome(number):\n",
    "    temp = number\n",
    "    reverse = 0\n",
    "\n",
    "    while temp > 0:\n",
    "        remainder = temp % 10\n",
    "        reverse = (reverse * 10) + remainder\n",
    "        temp //= 10\n",
    "\n",
    "    if number == reverse:\n",
    "        return True\n",
    "    else:\n",
    "        return False\n",
    "\n",
    "# Test the function\n",
    "number = int(input(\"Enter a number: \"))\n",
    "if is_palindrome(number):\n",
    "    print(f\"{number} is a palindrome.\")\n",
    "else:\n",
    "    print(f\"{number} is not a palindrome.\")"
   ]
  },
  {
   "cell_type": "markdown",
   "id": "e76495be",
   "metadata": {},
   "source": [
    "#### Q9. Write a code to print odd numbers from 1 to 100 using list comprehension.\n",
    "#### Note: Use a list comprehension to create a list \n",
    "####  from 1 to 100 and use another List comprehension to filter out odd numbers."
   ]
  },
  {
   "cell_type": "code",
   "execution_count": 21,
   "id": "7f0d2ea8",
   "metadata": {},
   "outputs": [
    {
     "name": "stdout",
     "output_type": "stream",
     "text": [
      "[1, 3, 5, 7, 9, 11, 13, 15, 17, 19, 21, 23, 25, 27, 29, 31, 33, 35, 37, 39, 41, 43, 45, 47, 49, 51, 53, 55, 57, 59, 61, 63, 65, 67, 69, 71, 73, 75, 77, 79, 81, 83, 85, 87, 89, 91, 93, 95, 97, 99]\n"
     ]
    }
   ],
   "source": [
    "numbers = [num for num in range(1, 101)]\n",
    "\n",
    "\n",
    "oddn0 = [num for num in numbers if num in [x for x in numbers if x % 2 != 0]]\n",
    "\n",
    "# Print the odd numbers\n",
    "print(oddn0)"
   ]
  },
  {
   "cell_type": "code",
   "execution_count": null,
   "id": "fc0eac8e",
   "metadata": {},
   "outputs": [],
   "source": []
  }
 ],
 "metadata": {
  "kernelspec": {
   "display_name": "Python 3 (ipykernel)",
   "language": "python",
   "name": "python3"
  },
  "language_info": {
   "codemirror_mode": {
    "name": "ipython",
    "version": 3
   },
   "file_extension": ".py",
   "mimetype": "text/x-python",
   "name": "python",
   "nbconvert_exporter": "python",
   "pygments_lexer": "ipython3",
   "version": "3.10.9"
  }
 },
 "nbformat": 4,
 "nbformat_minor": 5
}
